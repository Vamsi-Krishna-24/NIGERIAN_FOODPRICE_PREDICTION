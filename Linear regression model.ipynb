{
  "cells": [
    {
      "cell_type": "markdown",
      "metadata": {
        "id": "rLAVbovG8m4u"
      },
      "source": [
        "# **Importing required libraries**"
      ]
    },
    {
      "cell_type": "code",
      "execution_count": 2,
      "metadata": {
        "id": "yCg79xud-jHy"
      },
      "outputs": [],
      "source": [
        "import pandas as pd\n",
        "import numpy as np\n",
        "import matplotlib.pyplot as plt\n",
        "from sklearn.pipeline import Pipeline\n",
        "from sklearn.model_selection import train_test_split\n",
        "from sklearn.preprocessing import StandardScaler\n",
        "from sklearn.metrics import mean_absolute_error, mean_squared_error, r2_score\n",
        "from sklearn.ensemble import RandomForestRegressor, GradientBoostingRegressor\n",
        "from xgboost import XGBRegressor\n",
        "from sklearn.linear_model import LinearRegression, Lasso, Ridge\n",
        "from sklearn.model_selection import GridSearchCV\n",
        "from sklearn.compose import ColumnTransformer\n",
        "import pickle"
      ]
    },
    {
      "cell_type": "markdown",
      "metadata": {},
      "source": [
        "# Loading & Splitting the data"
      ]
    },
    {
      "cell_type": "code",
      "execution_count": 4,
      "metadata": {
        "colab": {
          "base_uri": "https://localhost:8080/",
          "height": 132
        },
        "id": "u7G9ieGO8mYv",
        "outputId": "7abb8860-f967-42ee-ff42-30c81e3948fb"
      },
      "outputs": [
        {
          "data": {
            "text/html": [
              "<div>\n",
              "<style scoped>\n",
              "    .dataframe tbody tr th:only-of-type {\n",
              "        vertical-align: middle;\n",
              "    }\n",
              "\n",
              "    .dataframe tbody tr th {\n",
              "        vertical-align: top;\n",
              "    }\n",
              "\n",
              "    .dataframe thead th {\n",
              "        text-align: right;\n",
              "    }\n",
              "</style>\n",
              "<table border=\"1\" class=\"dataframe\">\n",
              "  <thead>\n",
              "    <tr style=\"text-align: right;\">\n",
              "      <th></th>\n",
              "      <th>latitude</th>\n",
              "      <th>longitude</th>\n",
              "      <th>year</th>\n",
              "      <th>season_categorical</th>\n",
              "      <th>pricetype_binary</th>\n",
              "      <th>month_categorical</th>\n",
              "      <th>commodities_categorical</th>\n",
              "      <th>adjusted_price</th>\n",
              "      <th>month_sin</th>\n",
              "      <th>month_cos</th>\n",
              "    </tr>\n",
              "  </thead>\n",
              "  <tbody>\n",
              "    <tr>\n",
              "      <th>64216</th>\n",
              "      <td>13.062665</td>\n",
              "      <td>11.171371</td>\n",
              "      <td>2023</td>\n",
              "      <td>2</td>\n",
              "      <td>1</td>\n",
              "      <td>6</td>\n",
              "      <td>31</td>\n",
              "      <td>224.488083</td>\n",
              "      <td>1.220000e-16</td>\n",
              "      <td>-1.0</td>\n",
              "    </tr>\n",
              "    <tr>\n",
              "      <th>64217</th>\n",
              "      <td>13.062665</td>\n",
              "      <td>11.171371</td>\n",
              "      <td>2023</td>\n",
              "      <td>2</td>\n",
              "      <td>1</td>\n",
              "      <td>6</td>\n",
              "      <td>35</td>\n",
              "      <td>203.507889</td>\n",
              "      <td>1.220000e-16</td>\n",
              "      <td>-1.0</td>\n",
              "    </tr>\n",
              "    <tr>\n",
              "      <th>64218</th>\n",
              "      <td>13.062665</td>\n",
              "      <td>11.171371</td>\n",
              "      <td>2023</td>\n",
              "      <td>2</td>\n",
              "      <td>1</td>\n",
              "      <td>6</td>\n",
              "      <td>36</td>\n",
              "      <td>139.866566</td>\n",
              "      <td>1.220000e-16</td>\n",
              "      <td>-1.0</td>\n",
              "    </tr>\n",
              "    <tr>\n",
              "      <th>64219</th>\n",
              "      <td>13.062665</td>\n",
              "      <td>11.171371</td>\n",
              "      <td>2023</td>\n",
              "      <td>2</td>\n",
              "      <td>1</td>\n",
              "      <td>6</td>\n",
              "      <td>39</td>\n",
              "      <td>15.105740</td>\n",
              "      <td>1.220000e-16</td>\n",
              "      <td>-1.0</td>\n",
              "    </tr>\n",
              "    <tr>\n",
              "      <th>64220</th>\n",
              "      <td>13.062665</td>\n",
              "      <td>11.171371</td>\n",
              "      <td>2023</td>\n",
              "      <td>2</td>\n",
              "      <td>1</td>\n",
              "      <td>6</td>\n",
              "      <td>37</td>\n",
              "      <td>9.431097</td>\n",
              "      <td>1.220000e-16</td>\n",
              "      <td>-1.0</td>\n",
              "    </tr>\n",
              "  </tbody>\n",
              "</table>\n",
              "</div>"
            ],
            "text/plain": [
              "        latitude  longitude  year  season_categorical  pricetype_binary  \\\n",
              "64216  13.062665  11.171371  2023                   2                 1   \n",
              "64217  13.062665  11.171371  2023                   2                 1   \n",
              "64218  13.062665  11.171371  2023                   2                 1   \n",
              "64219  13.062665  11.171371  2023                   2                 1   \n",
              "64220  13.062665  11.171371  2023                   2                 1   \n",
              "\n",
              "       month_categorical  commodities_categorical  adjusted_price  \\\n",
              "64216                  6                       31      224.488083   \n",
              "64217                  6                       35      203.507889   \n",
              "64218                  6                       36      139.866566   \n",
              "64219                  6                       39       15.105740   \n",
              "64220                  6                       37        9.431097   \n",
              "\n",
              "          month_sin  month_cos  \n",
              "64216  1.220000e-16       -1.0  \n",
              "64217  1.220000e-16       -1.0  \n",
              "64218  1.220000e-16       -1.0  \n",
              "64219  1.220000e-16       -1.0  \n",
              "64220  1.220000e-16       -1.0  "
            ]
          },
          "execution_count": 4,
          "metadata": {},
          "output_type": "execute_result"
        }
      ],
      "source": [
        "df = pd.read_csv('train.csv')\n",
        "df.tail()"
      ]
    },
    {
      "cell_type": "code",
      "execution_count": 5,
      "metadata": {
        "id": "tubE7trC9LFd"
      },
      "outputs": [],
      "source": [
        "# Split data into features and target\n",
        "X = df.drop(columns=['adjusted_price'])\n",
        "y = df['adjusted_price']\n",
        "\n",
        "# Split the data into a training set and a test set (e.g., 80% training, 30% testing)\n",
        "X_train, X_test, y_train, y_test = train_test_split(X, y, test_size=0.25, random_state=42, shuffle=True)"
      ]
    },
    {
      "cell_type": "markdown",
      "metadata": {},
      "source": [
        "# Modeling- **RandomForestRegressor**"
      ]
    },
    {
      "cell_type": "code",
      "execution_count": 15,
      "metadata": {
        "colab": {
          "base_uri": "https://localhost:8080/"
        },
        "id": "1OunYi23BtIV",
        "outputId": "8ff7cf63-cb2c-4b40-e2b2-341050878470"
      },
      "outputs": [
        {
          "name": "stdout",
          "output_type": "stream",
          "text": [
            "Fitting 5 folds for each of 9 candidates, totalling 45 fits\n",
            "Best Parameters: {'regressor__max_depth': None, 'regressor__n_estimators': 100}\n"
          ]
        }
      ],
      "source": [
        "#Getting all the columns\n",
        "num_features = list(X.columns)\n",
        "numeric_features = num_features\n",
        "\n",
        "# Create a column transformer to apply standardization to numeric features\n",
        "numeric_transformer = StandardScaler()\n",
        "\n",
        "# Combine transformers using the column transformer\n",
        "preprocessor = ColumnTransformer(\n",
        "    transformers=[\n",
        "        ('num', numeric_transformer, numeric_features)\n",
        "    ])\n",
        "\n",
        "# Define the hyperparameters and their possible values\n",
        "param_grid = {\n",
        "    'regressor__n_estimators': [50, 75, 100],  # Number of trees in the forest\n",
        "    'regressor__max_depth': [None, 6, 13],  # Maximum depth of the trees\n",
        "}\n",
        "# Pipeline to automate the preprocessing\n",
        "pipeline = Pipeline(steps=[\n",
        "    ('preprocessor', preprocessor),\n",
        "    ('regressor', RandomForestRegressor(random_state=42))\n",
        "])\n",
        "\n",
        "# Initialize the GridSearchCV\n",
        "grid_search = GridSearchCV(pipeline, param_grid, cv=5, scoring='neg_mean_squared_error', verbose=1)\n",
        "\n",
        "# Fit the grid search to the data\n",
        "grid_search.fit(X_train, y_train)\n",
        "\n",
        "# Get the best parameters and best estimator from the grid search\n",
        "best_params = grid_search.best_params_\n",
        "best_estimator = grid_search.best_estimator_\n",
        "\n",
        "# View the best parameters\n",
        "print(f'Best Parameters: {best_params}')"
      ]
    },
    {
      "cell_type": "markdown",
      "metadata": {},
      "source": [
        "# Evaluation Metrics"
      ]
    },
    {
      "cell_type": "code",
      "execution_count": 6,
      "metadata": {
        "colab": {
          "base_uri": "https://localhost:8080/"
        },
        "id": "2X6DdxvWFNtw",
        "outputId": "d078a250-ff30-4a93-d6c0-a4c651391aed"
      },
      "outputs": [
        {
          "data": {
            "text/html": [
              "<div>\n",
              "<style scoped>\n",
              "    .dataframe tbody tr th:only-of-type {\n",
              "        vertical-align: middle;\n",
              "    }\n",
              "\n",
              "    .dataframe tbody tr th {\n",
              "        vertical-align: top;\n",
              "    }\n",
              "\n",
              "    .dataframe thead th {\n",
              "        text-align: right;\n",
              "    }\n",
              "</style>\n",
              "<table border=\"1\" class=\"dataframe\">\n",
              "  <thead>\n",
              "    <tr style=\"text-align: right;\">\n",
              "      <th></th>\n",
              "      <th>Metric</th>\n",
              "      <th>Train</th>\n",
              "      <th>Test</th>\n",
              "    </tr>\n",
              "  </thead>\n",
              "  <tbody>\n",
              "    <tr>\n",
              "      <th>0</th>\n",
              "      <td>MAE</td>\n",
              "      <td>34.628450</td>\n",
              "      <td>48.793197</td>\n",
              "    </tr>\n",
              "    <tr>\n",
              "      <th>1</th>\n",
              "      <td>MSE</td>\n",
              "      <td>199874.204113</td>\n",
              "      <td>297699.529986</td>\n",
              "    </tr>\n",
              "    <tr>\n",
              "      <th>2</th>\n",
              "      <td>RMSE</td>\n",
              "      <td>447.072929</td>\n",
              "      <td>545.618484</td>\n",
              "    </tr>\n",
              "    <tr>\n",
              "      <th>3</th>\n",
              "      <td>R2 Score</td>\n",
              "      <td>0.987746</td>\n",
              "      <td>0.985586</td>\n",
              "    </tr>\n",
              "  </tbody>\n",
              "</table>\n",
              "</div>"
            ],
            "text/plain": [
              "     Metric          Train           Test\n",
              "0       MAE      34.628450      48.793197\n",
              "1       MSE  199874.204113  297699.529986\n",
              "2      RMSE     447.072929     545.618484\n",
              "3  R2 Score       0.987746       0.985586"
            ]
          },
          "execution_count": 6,
          "metadata": {},
          "output_type": "execute_result"
        }
      ],
      "source": [
        "y_pred = loaded_model.predict(X_test)\n",
        "y_pred_train = loaded_model.predict(X_train)\n",
        "\n",
        "# Calculate (MAE),(R2),(MSE) score for training data\n",
        "mae = mean_absolute_error(y_train, y_pred_train)\n",
        "mse = mean_squared_error(y_train, y_pred_train)\n",
        "rmse = np.sqrt(mean_squared_error(y_train, y_pred_train))\n",
        "r2 = r2_score(y_train, y_pred_train)\n",
        "\n",
        "# Calculate (MAE),(R2),(MSE) score for test data\n",
        "mae1 = mean_absolute_error(y_test, y_pred)\n",
        "mse1 = mean_squared_error(y_test, y_pred)\n",
        "rmse1 = np.sqrt(mean_squared_error(y_test, y_pred))\n",
        "r21 = r2_score(y_test, y_pred)\n",
        "\n",
        "# Create a dataframe for evaluation metrics\n",
        "metrics_data = {\n",
        "    'Metric': ['MAE', 'MSE', 'RMSE', 'R2 Score'],\n",
        "    'Train': [mae, mse, rmse, r2],\n",
        "    'Test': [mae1, mse1, rmse1, r21]\n",
        "}\n",
        "metrics_df = pd.DataFrame(metrics_data)\n",
        "# Print the dataframe\n",
        "metrics_df"
      ]
    },
    {
      "cell_type": "markdown",
      "metadata": {},
      "source": [
        "# Visualizing & Testing the model with **KNOWN** & **UNKNOWN** data"
      ]
    },
    {
      "cell_type": "code",
      "execution_count": 7,
      "metadata": {},
      "outputs": [
        {
          "data": {
            "image/png": "[encoded data removed]",
            "text/plain": [
              "<Figure size 1500x500 with 1 Axes>"
            ]
          },
          "metadata": {},
          "output_type": "display_data"
        }
      ],
      "source": [
        "# Visualizing the predictions with known data\n",
        "plt.figure(figsize=(15, 5))\n",
        "plt.plot(y_test[0:10000].values, color='blue', label='Actual')\n",
        "plt.plot(y_pred[0:10000], color='red', label='Predicted')\n",
        "plt.title('RandomForestRegressor')\n",
        "plt.legend()\n",
        "plt.show();"
      ]
    },
    {
      "cell_type": "markdown",
      "metadata": {},
      "source": [
        "# Saving the model"
      ]
    },
    {
      "cell_type": "code",
      "execution_count": 23,
      "metadata": {},
      "outputs": [],
      "source": [
        "pickle.dump(best_estimator,open('model.pkl','wb'))"
      ]
    },
    {
      "cell_type": "markdown",
      "metadata": {},
      "source": [
        "# Testing with **UNKNOWN** dataset"
      ]
    },
    {
      "cell_type": "code",
      "execution_count": 10,
      "metadata": {},
      "outputs": [],
      "source": [
        "# Load the model\n",
        "with open('abhinash_model.pkl', 'rb') as file:\n",
        "    loaded_model = pickle.load(file)"
      ]
    },
    {
      "cell_type": "code",
      "execution_count": 11,
      "metadata": {
        "colab": {
          "base_uri": "https://localhost:8080/",
          "height": 132
        },
        "id": "Trtz1f3fG77U",
        "outputId": "44b71f29-3948-4f8f-d7a7-f53a57f22103"
      },
      "outputs": [
        {
          "data": {
            "text/html": [
              "<div>\n",
              "<style scoped>\n",
              "    .dataframe tbody tr th:only-of-type {\n",
              "        vertical-align: middle;\n",
              "    }\n",
              "\n",
              "    .dataframe tbody tr th {\n",
              "        vertical-align: top;\n",
              "    }\n",
              "\n",
              "    .dataframe thead th {\n",
              "        text-align: right;\n",
              "    }\n",
              "</style>\n",
              "<table border=\"1\" class=\"dataframe\">\n",
              "  <thead>\n",
              "    <tr style=\"text-align: right;\">\n",
              "      <th></th>\n",
              "      <th>latitude</th>\n",
              "      <th>longitude</th>\n",
              "      <th>year</th>\n",
              "      <th>season_categorical</th>\n",
              "      <th>pricetype_binary</th>\n",
              "      <th>month_categorical</th>\n",
              "      <th>commodities_categorical</th>\n",
              "      <th>month_sin</th>\n",
              "      <th>month_cos</th>\n",
              "    </tr>\n",
              "  </thead>\n",
              "  <tbody>\n",
              "    <tr>\n",
              "      <th>2</th>\n",
              "      <td>12.362300</td>\n",
              "      <td>9.583600</td>\n",
              "      <td>2023</td>\n",
              "      <td>0</td>\n",
              "      <td>0</td>\n",
              "      <td>1</td>\n",
              "      <td>6</td>\n",
              "      <td>0.500000</td>\n",
              "      <td>8.660254e-01</td>\n",
              "    </tr>\n",
              "    <tr>\n",
              "      <th>3</th>\n",
              "      <td>12.496693</td>\n",
              "      <td>11.499503</td>\n",
              "      <td>2023</td>\n",
              "      <td>0</td>\n",
              "      <td>1</td>\n",
              "      <td>2</td>\n",
              "      <td>23</td>\n",
              "      <td>0.866025</td>\n",
              "      <td>5.000000e-01</td>\n",
              "    </tr>\n",
              "    <tr>\n",
              "      <th>4</th>\n",
              "      <td>11.285202</td>\n",
              "      <td>11.999501</td>\n",
              "      <td>2023</td>\n",
              "      <td>1</td>\n",
              "      <td>1</td>\n",
              "      <td>3</td>\n",
              "      <td>40</td>\n",
              "      <td>1.000000</td>\n",
              "      <td>6.120000e-17</td>\n",
              "    </tr>\n",
              "    <tr>\n",
              "      <th>5</th>\n",
              "      <td>11.834551</td>\n",
              "      <td>13.152417</td>\n",
              "      <td>2023</td>\n",
              "      <td>1</td>\n",
              "      <td>1</td>\n",
              "      <td>4</td>\n",
              "      <td>32</td>\n",
              "      <td>0.866025</td>\n",
              "      <td>-5.000000e-01</td>\n",
              "    </tr>\n",
              "    <tr>\n",
              "      <th>6</th>\n",
              "      <td>11.858182</td>\n",
              "      <td>13.154892</td>\n",
              "      <td>2023</td>\n",
              "      <td>1</td>\n",
              "      <td>1</td>\n",
              "      <td>5</td>\n",
              "      <td>31</td>\n",
              "      <td>0.500000</td>\n",
              "      <td>-8.660254e-01</td>\n",
              "    </tr>\n",
              "  </tbody>\n",
              "</table>\n",
              "</div>"
            ],
            "text/plain": [
              "    latitude  longitude  year  season_categorical  pricetype_binary  \\\n",
              "2  12.362300   9.583600  2023                   0                 0   \n",
              "3  12.496693  11.499503  2023                   0                 1   \n",
              "4  11.285202  11.999501  2023                   1                 1   \n",
              "5  11.834551  13.152417  2023                   1                 1   \n",
              "6  11.858182  13.154892  2023                   1                 1   \n",
              "\n",
              "   month_categorical  commodities_categorical  month_sin     month_cos  \n",
              "2                  1                        6   0.500000  8.660254e-01  \n",
              "3                  2                       23   0.866025  5.000000e-01  \n",
              "4                  3                       40   1.000000  6.120000e-17  \n",
              "5                  4                       32   0.866025 -5.000000e-01  \n",
              "6                  5                       31   0.500000 -8.660254e-01  "
            ]
          },
          "execution_count": 11,
          "metadata": {},
          "output_type": "execute_result"
        }
      ],
      "source": [
        "# Loading test.csv\n",
        "test_data = pd.read_csv(\"evaluate.csv\")\n",
        "data = test_data.drop(columns=['adjusted_price'])\n",
        "data.tail()"
      ]
    },
    {
      "cell_type": "code",
      "execution_count": 16,
      "metadata": {},
      "outputs": [
        {
          "data": {
            "text/plain": [
              "0      275.782714\n",
              "1    43753.664660\n",
              "2      188.821752\n",
              "3       15.944948\n",
              "4      275.260154\n",
              "5       22.378874\n",
              "6       16.784156\n",
              "Name: adjusted_price, dtype: float64"
            ]
          },
          "execution_count": 16,
          "metadata": {},
          "output_type": "execute_result"
        }
      ],
      "source": [
        "test_data['adjusted_price']"
      ]
    },
    {
      "cell_type": "code",
      "execution_count": 23,
      "metadata": {
        "colab": {
          "base_uri": "https://localhost:8080/"
        },
        "id": "7cEE3vDiRv61",
        "outputId": "d1183005-775a-4bb1-f37f-15962bd3443f"
      },
      "outputs": [
        {
          "data": {
            "text/html": [
              "<div>\n",
              "<style scoped>\n",
              "    .dataframe tbody tr th:only-of-type {\n",
              "        vertical-align: middle;\n",
              "    }\n",
              "\n",
              "    .dataframe tbody tr th {\n",
              "        vertical-align: top;\n",
              "    }\n",
              "\n",
              "    .dataframe thead th {\n",
              "        text-align: right;\n",
              "    }\n",
              "</style>\n",
              "<table border=\"1\" class=\"dataframe\">\n",
              "  <thead>\n",
              "    <tr style=\"text-align: right;\">\n",
              "      <th></th>\n",
              "      <th>Actual Price</th>\n",
              "      <th>Predicted Price</th>\n",
              "    </tr>\n",
              "  </thead>\n",
              "  <tbody>\n",
              "    <tr>\n",
              "      <th>0</th>\n",
              "      <td>275.782714</td>\n",
              "      <td>269.923459</td>\n",
              "    </tr>\n",
              "    <tr>\n",
              "      <th>1</th>\n",
              "      <td>43753.664660</td>\n",
              "      <td>37928.936156</td>\n",
              "    </tr>\n",
              "    <tr>\n",
              "      <th>2</th>\n",
              "      <td>188.821752</td>\n",
              "      <td>190.466626</td>\n",
              "    </tr>\n",
              "    <tr>\n",
              "      <th>3</th>\n",
              "      <td>15.944948</td>\n",
              "      <td>17.899251</td>\n",
              "    </tr>\n",
              "    <tr>\n",
              "      <th>4</th>\n",
              "      <td>275.260154</td>\n",
              "      <td>235.850957</td>\n",
              "    </tr>\n",
              "    <tr>\n",
              "      <th>5</th>\n",
              "      <td>22.378874</td>\n",
              "      <td>22.799474</td>\n",
              "    </tr>\n",
              "    <tr>\n",
              "      <th>6</th>\n",
              "      <td>16.784156</td>\n",
              "      <td>16.848555</td>\n",
              "    </tr>\n",
              "  </tbody>\n",
              "</table>\n",
              "</div>"
            ],
            "text/plain": [
              "   Actual Price  Predicted Price\n",
              "0    275.782714       269.923459\n",
              "1  43753.664660     37928.936156\n",
              "2    188.821752       190.466626\n",
              "3     15.944948        17.899251\n",
              "4    275.260154       235.850957\n",
              "5     22.378874        22.799474\n",
              "6     16.784156        16.848555"
            ]
          },
          "execution_count": 23,
          "metadata": {},
          "output_type": "execute_result"
        }
      ],
      "source": [
        "actual_data = test_data['adjusted_price']\n",
        "predicted_result = loaded_model.predict(data)\n",
        "\n",
        "outcome_data = {\n",
        "    'Actual Price': actual_data.values,  # Use .values to get the value from the pandas series\n",
        "    'Predicted Price': predicted_result.flatten()  # Use flatten to convert the result to a 1D array\n",
        "}\n",
        "\n",
        "outcome_df = pd.DataFrame(outcome_data)\n",
        "\n",
        "# Print the dataframe\n",
        "outcome_df"
      ]
    },
    {
      "cell_type": "code",
      "execution_count": null,
      "metadata": {},
      "outputs": [],
      "source": []
    }
  ],
  "metadata": {
    "colab": {
      "gpuType": "T4",
      "provenance": []
    },
    "kernelspec": {
      "display_name": "Python 3",
      "name": "python3"
    },
    "language_info": {
      "codemirror_mode": {
        "name": "ipython",
        "version": 3
      },
      "file_extension": ".py",
      "mimetype": "text/x-python",
      "name": "python",
      "nbconvert_exporter": "python",
      "pygments_lexer": "ipython3",
      "version": "3.8.16"
    }
  },
  "nbformat": 4,
  "nbformat_minor": 0
}
